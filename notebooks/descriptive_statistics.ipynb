{
 "cells": [
  {
   "cell_type": "code",
   "execution_count": 6,
   "metadata": {},
   "outputs": [],
   "source": [
    "import pandas as pd\n",
    "import sys\n",
    "import os\n",
    "\n",
    "sys.path.insert(0, os.path.abspath(os.path.join(os.path.dirname(\"__file__\"), '..')))\n",
    "\n",
    "from src.descriptive_statistics import(\n",
    "    calculate_headline_stats, count_articles_per_publisher, analyze_publication_trends\n",
    ")\n",
    "\n",
    "from src.data_loader import load_data\n",
    "\n"
   ]
  },
  {
   "cell_type": "code",
   "execution_count": 7,
   "metadata": {},
   "outputs": [
    {
     "name": "stdout",
     "output_type": "stream",
     "text": [
      "Column names in the dataset: Index(['Unnamed: 0', 'headline', 'url', 'publisher', 'date', 'stock'], dtype='object')\n"
     ]
    }
   ],
   "source": [
    "data_path = \"../data/raw_analyst_ratings.csv\"\n",
    "\n",
    "df = load_data(data_path)\n"
   ]
  },
  {
   "cell_type": "code",
   "execution_count": 8,
   "metadata": {},
   "outputs": [
    {
     "name": "stdout",
     "output_type": "stream",
     "text": [
      "Headline Length Statistics:\n",
      " count    1.407328e+06\n",
      "mean     7.312051e+01\n",
      "std      4.073531e+01\n",
      "min      3.000000e+00\n",
      "25%      4.700000e+01\n",
      "50%      6.400000e+01\n",
      "75%      8.700000e+01\n",
      "max      5.120000e+02\n",
      "Name: headline_length, dtype: float64\n"
     ]
    }
   ],
   "source": [
    "# Headline length statistics\n",
    "headline_stats = df[\"headline_stats\"] = calculate_headline_stats(df)\n",
    "print(\"Headline Length Statistics:\\n\", headline_stats)"
   ]
  },
  {
   "cell_type": "code",
   "execution_count": 9,
   "metadata": {},
   "outputs": [
    {
     "name": "stdout",
     "output_type": "stream",
     "text": [
      "Articles per Publisher:\n",
      " publisher\n",
      "Paul Quintaro        228373\n",
      "Lisa Levin           186979\n",
      "Benzinga Newsdesk    150484\n",
      "Charles Gross         96732\n",
      "Monica Gerson         82380\n",
      "                      ...  \n",
      "MoneyGeek                 1\n",
      "muathe                    1\n",
      "Robert Morris             1\n",
      "LeftCoastHedgie           1\n",
      "Jeremie Capron            1\n",
      "Name: count, Length: 1034, dtype: int64\n"
     ]
    }
   ],
   "source": [
    "articles_per_publisher = df[\"articles_per_publisher\"] = count_articles_per_publisher(df)\n",
    "print(\"Articles per Publisher:\\n\", articles_per_publisher)"
   ]
  },
  {
   "cell_type": "code",
   "execution_count": 10,
   "metadata": {},
   "outputs": [
    {
     "name": "stdout",
     "output_type": "stream",
     "text": [
      "Publication Trends:\n",
      " date\n",
      "2011-04-27 00:00:00-04:00      1\n",
      "2011-04-28 00:00:00-04:00      2\n",
      "2011-04-29 00:00:00-04:00      2\n",
      "2011-04-30 00:00:00-04:00      1\n",
      "2011-05-01 00:00:00-04:00      1\n",
      "                            ... \n",
      "2020-06-07 00:00:00-04:00     25\n",
      "2020-06-08 00:00:00-04:00    765\n",
      "2020-06-09 00:00:00-04:00    804\n",
      "2020-06-10 00:00:00-04:00    806\n",
      "2020-06-11 00:00:00-04:00    544\n",
      "Freq: D, Length: 3334, dtype: int64\n"
     ]
    }
   ],
   "source": [
    "publication_trends = df[\"publication_trends\"] = analyze_publication_trends(df)\n",
    "print(\"Publication Trends:\\n\", publication_trends)"
   ]
  }
 ],
 "metadata": {
  "kernelspec": {
   "display_name": "week1env",
   "language": "python",
   "name": "python3"
  },
  "language_info": {
   "codemirror_mode": {
    "name": "ipython",
    "version": 3
   },
   "file_extension": ".py",
   "mimetype": "text/x-python",
   "name": "python",
   "nbconvert_exporter": "python",
   "pygments_lexer": "ipython3",
   "version": "3.13.0"
  }
 },
 "nbformat": 4,
 "nbformat_minor": 2
}
