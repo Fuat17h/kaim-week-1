{
 "cells": [
  {
   "cell_type": "code",
   "execution_count": null,
   "metadata": {},
   "outputs": [],
   "source": [
    "# Import necessary libraries\n",
    "import pandas as pd\n",
    "import matplotlib.pyplot as plt\n",
    "# import talib"
   ]
  },
  {
   "cell_type": "code",
   "execution_count": 3,
   "metadata": {},
   "outputs": [],
   "source": [
    "# Function definitions\n",
    "def load_data(file_path):\n",
    "    \"\"\"\n",
    "    Load stock data from a CSV file.\n",
    "    \"\"\"\n",
    "    df = pd.read_csv(file_path, parse_dates=['Date'], index_col='Date')\n",
    "    return df\n",
    "\n",
    "def calculate_indicators(df):\n",
    "    \"\"\"\n",
    "    Calculate various technical indicators including SMA, EMA, RSI, and MACD.\n",
    "    \"\"\"\n",
    "    # Calculate Simple Moving Averages (SMA)\n",
    "    df['SMA_50'] = talib.SMA(df['Close'], timeperiod=50)\n",
    "    df['SMA_200'] = talib.SMA(df['Close'], timeperiod=200)\n",
    "    \n",
    "    # Calculate Exponential Moving Averages (EMA)\n",
    "    df['EMA_50'] = talib.EMA(df['Close'], timeperiod=50)\n",
    "    df['EMA_200'] = talib.EMA(df['Close'], timeperiod=200)\n",
    "    \n",
    "    # Calculate the Relative Strength Index (RSI)\n",
    "    df['RSI'] = talib.RSI(df['Close'], timeperiod=14)\n",
    "    \n",
    "    # Calculate the MACD (Moving Average Convergence Divergence)\n",
    "    df['MACD'], df['MACD_signal'], df['MACD_hist'] = talib.MACD(df['Close'], fastperiod=12, slowperiod=26, signalperiod=9)\n",
    "\n",
    "    return df\n",
    "\n",
    "def plot_price_and_indicators(df):\n",
    "    \"\"\"\n",
    "    Plot the stock price along with the moving averages (SMA and EMA).\n",
    "    \"\"\"\n",
    "    plt.figure(figsize=(14, 8))\n",
    "    plt.plot(df['Close'], label='Stock Price', color='black')\n",
    "    plt.plot(df['SMA_50'], label='50-day SMA', color='blue', linestyle='--')\n",
    "    plt.plot(df['SMA_200'], label='200-day SMA', color='red', linestyle='--')\n",
    "    plt.plot(df['EMA_50'], label='50-day EMA', color='green', linestyle='-.')\n",
    "    plt.plot(df['EMA_200'], label='200-day EMA', color='orange', linestyle='-.')\n",
    "    plt.title('Stock Price and Moving Averages')\n",
    "    plt.xlabel('Date')\n",
    "    plt.ylabel('Price')\n",
    "    plt.legend()\n",
    "    plt.show()\n",
    "\n",
    "def plot_rsi(df):\n",
    "    \"\"\"\n",
    "    Plot the RSI (Relative Strength Index) along with overbought and oversold thresholds.\n",
    "    \"\"\"\n",
    "    plt.figure(figsize=(14, 6))\n",
    "    plt.plot(df['RSI'], label='RSI (14)', color='purple')\n",
    "    plt.axhline(70, linestyle='--', color='red', label='Overbought (70)')\n",
    "    plt.axhline(30, linestyle='--', color='green', label='Oversold (30)')\n",
    "    plt.title('RSI (Relative Strength Index)')\n",
    "    plt.xlabel('Date')\n",
    "    plt.ylabel('RSI')\n",
    "    plt.legend()\n",
    "    plt.show()\n",
    "\n",
    "def plot_macd(df):\n",
    "    \"\"\"\n",
    "    Plot the MACD, MACD Signal, and MACD Histogram.\n",
    "    \"\"\"\n",
    "    plt.figure(figsize=(14, 6))\n",
    "    plt.plot(df['MACD'], label='MACD', color='blue')\n",
    "    plt.plot(df['MACD_signal'], label='MACD Signal', color='red')\n",
    "    plt.bar(df.index, df['MACD_hist'], label='MACD Histogram', color='green')\n",
    "    plt.title('MACD (Moving Average Convergence Divergence)')\n",
    "    plt.xlabel('Date')\n",
    "    plt.ylabel('MACD')\n",
    "    plt.legend()\n",
    "    plt.show()"
   ]
  },
  {
   "cell_type": "code",
   "execution_count": 8,
   "metadata": {},
   "outputs": [],
   "source": [
    "# Load the data\n",
    "df = load_data('../data/yfinance_data/AAPL_historical_data.csv')"
   ]
  },
  {
   "cell_type": "code",
   "execution_count": null,
   "metadata": {},
   "outputs": [],
   "source": [
    "# Calculate the indicators\n",
    "df = calculate_indicators(df)"
   ]
  },
  {
   "cell_type": "code",
   "execution_count": null,
   "metadata": {},
   "outputs": [],
   "source": [
    "# Plot the stock price and moving averages\n",
    "plot_price_and_indicators(df)"
   ]
  },
  {
   "cell_type": "code",
   "execution_count": null,
   "metadata": {},
   "outputs": [],
   "source": [
    "# Plot the RSI\n",
    "plot_rsi(df)"
   ]
  },
  {
   "cell_type": "code",
   "execution_count": null,
   "metadata": {},
   "outputs": [],
   "source": [
    "# Plot the MACD\n",
    "plot_macd(df)"
   ]
  }
 ],
 "metadata": {
  "kernelspec": {
   "display_name": "week1env",
   "language": "python",
   "name": "python3"
  },
  "language_info": {
   "codemirror_mode": {
    "name": "ipython",
    "version": 3
   },
   "file_extension": ".py",
   "mimetype": "text/x-python",
   "name": "python",
   "nbconvert_exporter": "python",
   "pygments_lexer": "ipython3",
   "version": "3.13.0"
  }
 },
 "nbformat": 4,
 "nbformat_minor": 2
}
