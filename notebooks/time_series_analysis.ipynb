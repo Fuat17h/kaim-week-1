{
 "cells": [
  {
   "cell_type": "code",
   "execution_count": 1,
   "metadata": {},
   "outputs": [],
   "source": [
    "# Import necessary libraries\n",
    "import pandas as pd\n",
    "import matplotlib.pyplot as plt\n",
    "import seaborn as sns\n"
   ]
  },
  {
   "cell_type": "code",
   "execution_count": 4,
   "metadata": {},
   "outputs": [],
   "source": [
    "# --- Data Loading ---\n",
    "def load_data(filepath: str) -> pd.DataFrame:\n",
    "    \"\"\"\n",
    "    Load dataset from a CSV file.\n",
    "    Args:\n",
    "        filepath (str): Path to the CSV file.\n",
    "    Returns:\n",
    "        pd.DataFrame: Loaded DataFrame.\n",
    "    \"\"\"\n",
    "    df = pd.read_csv(filepath)\n",
    "    return df"
   ]
  },
  {
   "cell_type": "code",
   "execution_count": null,
   "metadata": {},
   "outputs": [],
   "source": [
    "df = load_data(\"../data/raw_analyst_ratings.csv\")\n"
   ]
  },
  {
   "cell_type": "code",
   "execution_count": null,
   "metadata": {},
   "outputs": [],
   "source": [
    "def preprocess_data(df):\n",
    "    \"\"\"\n",
    "    Convert the 'date' column to datetime and drop rows with invalid dates.\n",
    "    \"\"\"\n",
    "    df['date'] = pd.to_datetime(df['date'], errors='coerce')\n",
    "    df = df.dropna(subset=['date'])\n",
    "    return df\n",
    "\n",
    "df = preprocess_data(df)\n",
    "print(df)\n"
   ]
  },
  {
   "cell_type": "code",
   "execution_count": null,
   "metadata": {},
   "outputs": [],
   "source": [
    "def aggregate_by_interval(df, interval='D'):\n",
    "    \"\"\"\n",
    "    Aggregates the data by a specified time interval (Daily, Weekly, Monthly).\n",
    "    \n",
    "    Parameters:\n",
    "    - df: DataFrame containing the news articles\n",
    "    - interval: Aggregation interval ('D' for daily, 'W' for weekly, 'M' for monthly)\n",
    "    \n",
    "    Returns:\n",
    "    - DataFrame: Grouped by the specified interval with publication counts\n",
    "    \"\"\"\n",
    "    if interval == 'D':\n",
    "        df_grouped = df.groupby(df['date'].dt.date).size()\n",
    "    elif interval == 'W':\n",
    "        df_grouped = df.groupby(df['date'].dt.to_period('W')).size()\n",
    "        df_grouped = df_grouped.reset_index()\n",
    "        df_grouped['date'] = df_grouped['date'].dt.start_time  \n",
    "    elif interval == 'M':\n",
    "        df_grouped = df.groupby(df['date'].dt.to_period('M')).size()\n",
    "        df_grouped = df_grouped.reset_index()\n",
    "        df_grouped['date'] = df_grouped['date'].dt.start_time  \n",
    "    \n",
    "    if isinstance(df_grouped, pd.Series):\n",
    "        df_grouped = df_grouped.reset_index(name='publication_count')\n",
    "        df_grouped.rename(columns={'index': 'date'}, inplace=True)\n",
    "    \n",
    "    return df_grouped\n",
    "\n",
    "daily_data = aggregate_by_interval(df, interval='D')\n",
    "print(daily_data)"
   ]
  },
  {
   "cell_type": "code",
   "execution_count": null,
   "metadata": {},
   "outputs": [],
   "source": [
    "def detect_spikes(df, threshold=1.5, window=7):\n",
    "    \"\"\"\n",
    "    Detects spikes in publication frequency based on a rolling average.\n",
    "    \n",
    "    Parameters:\n",
    "    - df: DataFrame containing the publication counts\n",
    "    - threshold: Factor to detect spikes (e.g., 1.5 means spikes greater than 1.5x the moving average)\n",
    "    - window: Size of the rolling window (in days)\n",
    "    \n",
    "    Returns:\n",
    "    - DataFrame: Original DataFrame with spike information\n",
    "    \"\"\"\n",
    "    df['rolling_avg'] = df['publication_count'].rolling(window=window).mean()\n",
    "    df['spike'] = df['publication_count'] > (df['rolling_avg'] * threshold)\n",
    "    return df\n",
    "\n",
    "spikes_df = detect_spikes(daily_data)\n",
    "print(spikes_df)\n"
   ]
  },
  {
   "cell_type": "code",
   "execution_count": null,
   "metadata": {},
   "outputs": [],
   "source": [
    "def plot_publication_frequency(df, title='Publication Frequency'):\n",
    "    \"\"\"\n",
    "    Plots the publication frequency based on the provided DataFrame.\n",
    "    \n",
    "    Parameters:\n",
    "    - df: DataFrame containing publication frequency data\n",
    "    - title: Title of the plot\n",
    "    \"\"\"\n",
    "    plt.figure(figsize=(10, 6))\n",
    "    sns.lineplot(x='date', y='publication_count', data=df)\n",
    "    plt.title(title)\n",
    "    plt.xlabel('Date')\n",
    "    plt.ylabel('Number of Articles Published')\n",
    "    plt.xticks(rotation=45)\n",
    "    plt.tight_layout()\n",
    "    plt.show()\n",
    "\n",
    "plot_publication_frequency(daily_data)\n"
   ]
  },
  {
   "cell_type": "code",
   "execution_count": null,
   "metadata": {},
   "outputs": [],
   "source": [
    "def plot_spikes(df, title='Spikes in Publication Frequency'):\n",
    "    \"\"\"\n",
    "    Plots the publication frequency and highlights the detected spikes.\n",
    "    \n",
    "    Parameters:\n",
    "    - df: DataFrame containing publication frequency data with spike information\n",
    "    - title: Title of the plot\n",
    "    \"\"\"\n",
    "    plt.figure(figsize=(10, 6))\n",
    "    sns.lineplot(x='date', y='publication_count', data=df, label='Publication Count')\n",
    "    sns.lineplot(x='date', y='rolling_avg', data=df, label='Rolling Average', linestyle='--')\n",
    "    plt.scatter(df[df['spike']]['date'], df[df['spike']]['publication_count'], color='red', label='Spikes')\n",
    "    plt.title(title)\n",
    "    plt.xlabel('Date')\n",
    "    plt.ylabel('Number of Articles Published')\n",
    "    plt.legend()\n",
    "    plt.xticks(rotation=45)\n",
    "    plt.tight_layout()\n",
    "    plt.show()\n",
    "\n",
    "plot_spikes(spikes_df)\n"
   ]
  },
  {
   "cell_type": "code",
   "execution_count": null,
   "metadata": {},
   "outputs": [],
   "source": [
    "def analyze_publishing_times(df):\n",
    "    \"\"\"\n",
    "    Analyzes the time of day when publications occur.\n",
    "    \n",
    "    Parameters:\n",
    "    - df: DataFrame containing the publication data with a 'date' column\n",
    "    \n",
    "    Returns:\n",
    "    - DataFrame: Publication counts by hour of the day\n",
    "    \"\"\"\n",
    "    df['hour'] = df['date'].dt.hour\n",
    "    publication_by_hour = df.groupby('hour').size().reset_index(name='publication_count')\n",
    "    \n",
    "    plt.figure(figsize=(10, 6))\n",
    "    sns.barplot(x='hour', y='publication_count', data=publication_by_hour, palette=\"viridis\")\n",
    "    plt.title(\"Publication Frequency by Hour of the Day\")\n",
    "    plt.xlabel('Hour of the Day')\n",
    "    plt.ylabel('Number of Articles Published')\n",
    "    plt.tight_layout()\n",
    "    plt.show()\n",
    "\n",
    "analyze_publishing_times(df)\n"
   ]
  }
 ],
 "metadata": {
  "kernelspec": {
   "display_name": "week1env",
   "language": "python",
   "name": "python3"
  },
  "language_info": {
   "codemirror_mode": {
    "name": "ipython",
    "version": 3
   },
   "file_extension": ".py",
   "mimetype": "text/x-python",
   "name": "python",
   "nbconvert_exporter": "python",
   "pygments_lexer": "ipython3",
   "version": "3.13.0"
  }
 },
 "nbformat": 4,
 "nbformat_minor": 2
}
