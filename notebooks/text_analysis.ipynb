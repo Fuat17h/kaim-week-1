{
 "cells": [
  {
   "cell_type": "code",
   "execution_count": 1,
   "metadata": {},
   "outputs": [],
   "source": [
    "# Import necessary libraries\n",
    "import pandas as pd\n",
    "from textblob import TextBlob\n",
    "from sklearn.feature_extraction.text import TfidfVectorizer\n",
    "from sklearn.cluster import KMeans\n",
    "import matplotlib.pyplot as plt\n",
    "import seaborn as sns"
   ]
  },
  {
   "cell_type": "code",
   "execution_count": 2,
   "metadata": {},
   "outputs": [],
   "source": [
    "# --- Data Loading ---\n",
    "def load_data(filepath: str) -> pd.DataFrame:\n",
    "    \"\"\"\n",
    "    Load dataset from a CSV file.\n",
    "    Args:\n",
    "        filepath (str): Path to the CSV file.\n",
    "    Returns:\n",
    "        pd.DataFrame: Loaded DataFrame.\n",
    "    \"\"\"\n",
    "    df = pd.read_csv(filepath)\n",
    "    return df"
   ]
  },
  {
   "cell_type": "code",
   "execution_count": null,
   "metadata": {},
   "outputs": [],
   "source": [
    "df = load_data(\"../data/raw_analyst_ratings.csv\")"
   ]
  },
  {
   "cell_type": "code",
   "execution_count": 7,
   "metadata": {},
   "outputs": [],
   "source": [
    "def perform_sentiment_analysis(df: pd.DataFrame, column: str = \"headline\") -> pd.DataFrame:\n",
    "    \"\"\"\n",
    "    Perform sentiment analysis on the headlines.\n",
    "    Args:\n",
    "        df (pd.DataFrame): Input DataFrame.\n",
    "        column (str): Column containing headlines.\n",
    "    Returns:\n",
    "        pd.DataFrame: DataFrame with sentiment results.\n",
    "    \"\"\"\n",
    "    def get_sentiment(text):\n",
    "        blob = TextBlob(text)\n",
    "        return blob.sentiment.polarity, blob.sentiment.subjectivity\n",
    "\n",
    "    df[['sentiment_polarity', 'sentiment_subjectivity']] = df[column].apply(lambda x: pd.Series(get_sentiment(x)))\n",
    "    df['sentiment'] = df['sentiment_polarity'].apply(\n",
    "        lambda x: 'Positive' if x > 0 else ('Negative' if x < 0 else 'Neutral')\n",
    "    )\n",
    "    return df"
   ]
  },
  {
   "cell_type": "code",
   "execution_count": null,
   "metadata": {},
   "outputs": [],
   "source": [
    "df = perform_sentiment_analysis(df)\n",
    "print(df['sentiment'].value_counts())"
   ]
  },
  {
   "cell_type": "code",
   "execution_count": null,
   "metadata": {},
   "outputs": [],
   "source": [
    "def perform_topic_modeling(df: pd.DataFrame, column: str = \"headline\", n_topics: int = 5) -> pd.DataFrame:\n",
    "    \"\"\"\n",
    "    Perform topic modeling on the headlines.\n",
    "    Args:\n",
    "        df (pd.DataFrame): Input DataFrame.\n",
    "        column (str): Column containing headlines.\n",
    "        n_topics (int): Number of topics to extract.\n",
    "    Returns:\n",
    "        pd.DataFrame: DataFrame with topic assignments.\n",
    "    \"\"\"\n",
    "    tfidf = TfidfVectorizer(stop_words='english')\n",
    "    tfidf_matrix = tfidf.fit_transform(df[column])\n",
    "    kmeans = KMeans(n_clusters=n_topics, random_state=42)\n",
    "    df['topic'] = kmeans.fit_predict(tfidf_matrix)\n",
    "    return df"
   ]
  },
  {
   "cell_type": "code",
   "execution_count": null,
   "metadata": {},
   "outputs": [],
   "source": [
    "df = perform_topic_modeling(df)\n",
    "print(df['topic'].value_counts())"
   ]
  }
 ],
 "metadata": {
  "kernelspec": {
   "display_name": "week1env",
   "language": "python",
   "name": "python3"
  },
  "language_info": {
   "codemirror_mode": {
    "name": "ipython",
    "version": 3
   },
   "file_extension": ".py",
   "mimetype": "text/x-python",
   "name": "python",
   "nbconvert_exporter": "python",
   "pygments_lexer": "ipython3",
   "version": "3.13.0"
  }
 },
 "nbformat": 4,
 "nbformat_minor": 2
}
